{
 "cells": [
  {
   "cell_type": "code",
   "execution_count": 29,
   "id": "5bfebd92",
   "metadata": {},
   "outputs": [],
   "source": [
    "#Modules Required\n",
    "import random\n",
    "import time\n",
    "import numpy as np\n",
    "import pandas as pd\n",
    "import matplotlib.pyplot as plt\n",
    "import math\n",
    "comparisons = 0\n",
    "df1 = pd.DataFrame(columns=[\"InputSize\",\"KeyComparisons\"])\n",
    "import time\n",
    "import numpy as np\n",
    "import matplotlib.pyplot as plt\n",
    "df2 = pd.DataFrame(columns=[\"SSize\",\"KeyComparisons\"])"
   ]
  },
  {
   "cell_type": "code",
   "execution_count": null,
   "id": "2bdb73a3",
   "metadata": {},
   "outputs": [],
   "source": []
  },
  {
   "cell_type": "code",
   "execution_count": 25,
   "id": "4f4c1066",
   "metadata": {},
   "outputs": [],
   "source": [
    "def generate_input_data(size=0):\n",
    "    max_integer = int(input(\"Enter the max integer 'x' for the array: \"))\n",
    "    number_arrays = int(input(\"Enter the number of arrays to generate: \"))\n",
    "    input_data = []\n",
    "    for i in range(0, number_arrays):\n",
    "        temp = []\n",
    "        #Generate a random array size based on the requirements\n",
    "        if size==0:\n",
    "            array_size = random.randint(1000,10000000)\n",
    "            for j in range(0, array_size):\n",
    "                #Generate a random integer to append to the array\n",
    "                temp.append(random.randint(1,max_integer))\n",
    "        else: #Fixed size requested\n",
    "            for l in range(0, size):\n",
    "                temp.append(random.randint(1,max_integer))\n",
    "        #Append generated array to the main array\n",
    "        input_data.append(temp)  \n",
    "    #Sort input_data by the size of the subarrays\n",
    "    input_data.sort(key=len)\n",
    "    #Print information about arrays - sanity check\n",
    "    print(\"Number of Arrays Generated: \", len(input_data))\n",
    "    for k in range(0, len(input_data)):\n",
    "        print(f\"Array {k+1} : {len(input_data[k])}\")\n",
    "    return input_data"
   ]
  },
  {
   "cell_type": "code",
   "execution_count": 21,
   "id": "bf16eaf9",
   "metadata": {},
   "outputs": [],
   "source": [
    "def insertion_sort(array):\n",
    "    global comparisons\n",
    "    for i in range(len(array)) :\n",
    "        key = i\n",
    "        for l in (range (i-1,-1,-1)) :\n",
    "            if (array[key] < array[l]) :\n",
    "                comparisons += 1\n",
    "                temp = array[key]\n",
    "                array[key] = array[l]\n",
    "                array[l] = temp\n",
    "                key = l"
   ]
  },
  {
   "cell_type": "code",
   "execution_count": 22,
   "id": "ca8e7f6e",
   "metadata": {},
   "outputs": [],
   "source": [
    "def mergeSort(array):\n",
    "    global comparisons\n",
    "    if (len(array) <= 1):\n",
    "        return array\n",
    "    else:\n",
    "        #Use Merge Sort\n",
    "        x = len(array)\n",
    "        mid = math.ceil(x / 2)\n",
    "        array1 = array[:mid]\n",
    "        array2 = array[mid:]\n",
    "        array1 = mergeSort(array1)\n",
    "        array2 = mergeSort(array2)\n",
    "        temparray = []  \n",
    "        x = 0\n",
    "        y = 0\n",
    "        len1 = len(array1)\n",
    "        len2 = len(array2)\n",
    "        while (x < len1 and y < len2):\n",
    "            if (array1[x] <= array2[y]):\n",
    "                comparisons += 1\n",
    "                temparray.append(array1[x])\n",
    "                x += 1\n",
    "            else:\n",
    "                temparray.append(array2[y])\n",
    "                comparisons += 1\n",
    "                y += 1\n",
    "        while (x < len1):\n",
    "            temparray.append(array1[x])\n",
    "            x += 1\n",
    "        while (y < len2):\n",
    "            temparray.append(array2[y])\n",
    "            y += 1\n",
    "        return temparray"
   ]
  },
  {
   "cell_type": "code",
   "execution_count": 23,
   "id": "04253f87",
   "metadata": {},
   "outputs": [],
   "source": [
    "def hybrid_sort(array,limiting_factor):\n",
    "    global comparisons\n",
    "    if (len(array) <= limiting_factor):\n",
    "        #Trigger Insertion Sort\n",
    "        insertion_sort(array)\n",
    "        return array\n",
    "    else:\n",
    "        #Use Merge Sort\n",
    "        x = len(array)\n",
    "        mid = math.ceil(x / 2)\n",
    "        array1 = array[:mid]\n",
    "        array2 = array[mid:]\n",
    "        array1 = hybrid_sort(array1, limiting_factor)\n",
    "        array2 = hybrid_sort(array2, limiting_factor)\n",
    "        temparray = []  \n",
    "        x = 0\n",
    "        y = 0\n",
    "        len1 = len(array1)\n",
    "        len2 = len(array2)\n",
    "        while (x < len1 and y < len2):\n",
    "            if (array1[x] <= array2[y]):\n",
    "                comparisons += 1\n",
    "                temparray.append(array1[x])\n",
    "                x += 1\n",
    "            else:\n",
    "                temparray.append(array2[y])\n",
    "                comparisons += 1\n",
    "                y += 1\n",
    "        while (x < len1):\n",
    "            temparray.append(array1[x])\n",
    "            x += 1\n",
    "        while (y < len2):\n",
    "            temparray.append(array2[y])\n",
    "            y += 1\n",
    "        return temparray"
   ]
  },
  {
   "cell_type": "code",
   "execution_count": 58,
   "id": "e515cd00",
   "metadata": {
    "scrolled": true
   },
   "outputs": [
    {
     "name": "stdout",
     "output_type": "stream",
     "text": [
      "Enter the max integer 'x' for the array: 1000\n",
      "Enter the number of arrays to generate: 1\n",
      "4260573\n",
      "[833 297 128 ... 721 634 444]\n",
      "Enter the size of the threshold: 5\n"
     ]
    },
    {
     "ename": "TypeError",
     "evalue": "object of type 'numpy.int32' has no len()",
     "output_type": "error",
     "traceback": [
      "\u001b[1;31m---------------------------------------------------------------------------\u001b[0m",
      "\u001b[1;31mTypeError\u001b[0m                                 Traceback (most recent call last)",
      "\u001b[1;32mC:\\Users\\HARISH~1\\AppData\\Local\\Temp/ipykernel_22176/3678982324.py\u001b[0m in \u001b[0;36m<module>\u001b[1;34m\u001b[0m\n\u001b[0;32m     16\u001b[0m         \u001b[0mend\u001b[0m \u001b[1;33m=\u001b[0m \u001b[0mtime\u001b[0m\u001b[1;33m.\u001b[0m\u001b[0mperf_counter\u001b[0m\u001b[1;33m(\u001b[0m\u001b[1;33m)\u001b[0m\u001b[1;33m\u001b[0m\u001b[1;33m\u001b[0m\u001b[0m\n\u001b[0;32m     17\u001b[0m         \u001b[0mprint\u001b[0m\u001b[1;33m(\u001b[0m\u001b[1;34mf\"Array Size {len(i)} | Threshold Size {threshold} | Comparisons: {comparisons} | Time Taken: {end-start} seconds  - Mergesort\"\u001b[0m\u001b[1;33m)\u001b[0m\u001b[1;33m\u001b[0m\u001b[1;33m\u001b[0m\u001b[0m\n\u001b[1;32m---> 18\u001b[1;33m \u001b[0mmain\u001b[0m\u001b[1;33m(\u001b[0m\u001b[1;33m)\u001b[0m\u001b[1;33m\u001b[0m\u001b[1;33m\u001b[0m\u001b[0m\n\u001b[0m",
      "\u001b[1;32mC:\\Users\\HARISH~1\\AppData\\Local\\Temp/ipykernel_22176/3678982324.py\u001b[0m in \u001b[0;36mmain\u001b[1;34m()\u001b[0m\n\u001b[0;32m      8\u001b[0m         \u001b[0mcomparisons\u001b[0m \u001b[1;33m=\u001b[0m \u001b[1;36m0\u001b[0m\u001b[1;33m\u001b[0m\u001b[1;33m\u001b[0m\u001b[0m\n\u001b[0;32m      9\u001b[0m         \u001b[0mstart\u001b[0m \u001b[1;33m=\u001b[0m \u001b[0mtime\u001b[0m\u001b[1;33m.\u001b[0m\u001b[0mperf_counter\u001b[0m\u001b[1;33m(\u001b[0m\u001b[1;33m)\u001b[0m\u001b[1;33m\u001b[0m\u001b[1;33m\u001b[0m\u001b[0m\n\u001b[1;32m---> 10\u001b[1;33m         \u001b[0mi\u001b[0m  \u001b[1;33m=\u001b[0m \u001b[0mhybrid_sort\u001b[0m\u001b[1;33m(\u001b[0m\u001b[0mi\u001b[0m\u001b[1;33m,\u001b[0m \u001b[0mthreshold\u001b[0m\u001b[1;33m)\u001b[0m\u001b[1;33m\u001b[0m\u001b[1;33m\u001b[0m\u001b[0m\n\u001b[0m\u001b[0;32m     11\u001b[0m         \u001b[0mend\u001b[0m \u001b[1;33m=\u001b[0m \u001b[0mtime\u001b[0m\u001b[1;33m.\u001b[0m\u001b[0mperf_counter\u001b[0m\u001b[1;33m(\u001b[0m\u001b[1;33m)\u001b[0m\u001b[1;33m\u001b[0m\u001b[1;33m\u001b[0m\u001b[0m\n\u001b[0;32m     12\u001b[0m         \u001b[0mprint\u001b[0m\u001b[1;33m(\u001b[0m\u001b[1;34mf\"Array Size {len(i)} | Threshold Size {threshold} | Comparisons: {comparisons} | Time Taken: {end-start} seconds - Hybridsort\"\u001b[0m\u001b[1;33m)\u001b[0m\u001b[1;33m\u001b[0m\u001b[1;33m\u001b[0m\u001b[0m\n",
      "\u001b[1;32mC:\\Users\\HARISH~1\\AppData\\Local\\Temp/ipykernel_22176/3153922160.py\u001b[0m in \u001b[0;36mhybrid_sort\u001b[1;34m(array, limiting_factor)\u001b[0m\n\u001b[0;32m      1\u001b[0m \u001b[1;32mdef\u001b[0m \u001b[0mhybrid_sort\u001b[0m\u001b[1;33m(\u001b[0m\u001b[0marray\u001b[0m\u001b[1;33m,\u001b[0m\u001b[0mlimiting_factor\u001b[0m\u001b[1;33m)\u001b[0m\u001b[1;33m:\u001b[0m\u001b[1;33m\u001b[0m\u001b[1;33m\u001b[0m\u001b[0m\n\u001b[0;32m      2\u001b[0m     \u001b[1;32mglobal\u001b[0m \u001b[0mcomparisons\u001b[0m\u001b[1;33m\u001b[0m\u001b[1;33m\u001b[0m\u001b[0m\n\u001b[1;32m----> 3\u001b[1;33m     \u001b[1;32mif\u001b[0m \u001b[1;33m(\u001b[0m\u001b[0mlen\u001b[0m\u001b[1;33m(\u001b[0m\u001b[0marray\u001b[0m\u001b[1;33m)\u001b[0m \u001b[1;33m<=\u001b[0m \u001b[0mlimiting_factor\u001b[0m\u001b[1;33m)\u001b[0m\u001b[1;33m:\u001b[0m\u001b[1;33m\u001b[0m\u001b[1;33m\u001b[0m\u001b[0m\n\u001b[0m\u001b[0;32m      4\u001b[0m         \u001b[1;31m#Trigger Insertion Sort\u001b[0m\u001b[1;33m\u001b[0m\u001b[1;33m\u001b[0m\u001b[0m\n\u001b[0;32m      5\u001b[0m         \u001b[0minsertion_sort\u001b[0m\u001b[1;33m(\u001b[0m\u001b[0marray\u001b[0m\u001b[1;33m)\u001b[0m\u001b[1;33m\u001b[0m\u001b[1;33m\u001b[0m\u001b[0m\n",
      "\u001b[1;31mTypeError\u001b[0m: object of type 'numpy.int32' has no len()"
     ]
    }
   ],
   "source": [
    "def main():\n",
    "    global comparisons\n",
    "    array = []\n",
    "    array = generate_input_data()\n",
    "    threshold = int(input(\"Enter the size of the threshold: \"))\n",
    "    for i in array:\n",
    "        comparisons = 0\n",
    "        start = time.perf_counter()\n",
    "        i  = hybrid_sort(i, threshold)\n",
    "        end = time.perf_counter()\n",
    "        print(f\"Array Size {len(i)} | Threshold Size {threshold} | Comparisons: {comparisons} | Time Taken: {end-start} seconds - Hybridsort\")\n",
    "        comparisons = 0\n",
    "        start = time.perf_counter()\n",
    "        i  = mergeSort(i)\n",
    "        end = time.perf_counter()\n",
    "        print(f\"Array Size {len(i)} | Threshold Size {threshold} | Comparisons: {comparisons} | Time Taken: {end-start} seconds  - Mergesort\")\n",
    "main()"
   ]
  },
  {
   "cell_type": "code",
   "execution_count": 33,
   "id": "25713c3a",
   "metadata": {},
   "outputs": [],
   "source": [
    "\n",
    "sorts = [\n",
    "   \n",
    "    {\n",
    "        \"name\": \"Merge Sort\",\n",
    "        \"sort\": lambda arr: mergeSort(arr)\n",
    "    },\n",
    "    {\n",
    "        \"name\": \"New Sort\",\n",
    "        \"sort\": lambda arr: hybrid_sort(arr,5)\n",
    "    }\n",
    "]"
   ]
  },
  {
   "cell_type": "code",
   "execution_count": 37,
   "id": "40a3bd64",
   "metadata": {},
   "outputs": [
    {
     "name": "stdout",
     "output_type": "stream",
     "text": [
      "Merge Sort Sorted 1000 Elements in -112403.9360662 s\n",
      "Merge Sort Sorted 2000 Elements in -112403.9180919 s\n",
      "Merge Sort Sorted 3000 Elements in -112403.9141004 s\n",
      "Merge Sort Sorted 4000 Elements in -112403.9081772 s\n",
      "Merge Sort Sorted 5000 Elements in -112403.9059096 s\n",
      "Merge Sort Sorted 6000 Elements in -112403.8793513 s\n",
      "Merge Sort Sorted 7000 Elements in -112403.9016601 s\n",
      "Merge Sort Sorted 8000 Elements in -112403.8766987 s\n",
      "Merge Sort Sorted 9000 Elements in -112403.8705867 s\n",
      "Merge Sort Sorted Elements in -112403.3579364 s\n",
      "New Sort Sorted 1000 Elements in -112403.9896808 s\n",
      "New Sort Sorted 2000 Elements in -112403.9727066 s\n",
      "New Sort Sorted 3000 Elements in -112403.9669323 s\n",
      "New Sort Sorted 4000 Elements in -112403.9599004 s\n",
      "New Sort Sorted 5000 Elements in -112403.9483898 s\n",
      "New Sort Sorted 6000 Elements in -112403.934623 s\n",
      "New Sort Sorted 7000 Elements in -112403.9180131 s\n",
      "New Sort Sorted 8000 Elements in -112403.9186937 s\n",
      "New Sort Sorted 9000 Elements in -112403.9115686 s\n",
      "New Sort Sorted Elements in -112403.3959264 s\n"
     ]
    },
    {
     "data": {
      "image/png": "[encoded data removed]",
      "text/plain": [
       "<Figure size 432x288 with 1 Axes>"
      ]
     },
     "metadata": {
      "needs_background": "light"
     },
     "output_type": "display_data"
    }
   ],
   "source": [
    "elements = np.array([i*1000 for i in range(1, 10)])\n",
    "\n",
    "plt.xlabel('List Length')\n",
    "plt.ylabel('Time Complexity')\n",
    "\n",
    "for sort in sorts:\n",
    "    times = list()\n",
    "    start_all = time.perf_counter()\n",
    "    for i in range(1, 10):\n",
    "        start = time.perf_counter()\n",
    "        a = np.random.randint(1000, size = i * 1000)\n",
    "        sort[\"sort\"](a)\n",
    "        end = time.process_time()\n",
    "        times.append(end - start)\n",
    "\n",
    "        print(sort[\"name\"], \"Sorted\", i * 1000, \"Elements in\", end - start, \"s\")\n",
    "    end_all = time.process_time()\n",
    "    print(sort[\"name\"], \"Sorted Elements in\", end_all - start_all, \"s\")\n",
    "\n",
    "    plt.plot(elements, times, label = sort[\"name\"])\n",
    "\n",
    "plt.grid()\n",
    "plt.legend()\n",
    "plt.show()"
   ]
  },
  {
   "cell_type": "code",
   "execution_count": null,
   "id": "d00374f2",
   "metadata": {},
   "outputs": [],
   "source": []
  },
  {
   "cell_type": "code",
   "execution_count": 38,
   "id": "18107bb6",
   "metadata": {},
   "outputs": [
    {
     "data": {
      "text/plain": [
       "array([[0.54591937, 0.30159407, 0.60506666, ..., 0.60909503, 0.46647173,\n",
       "        0.75918535],\n",
       "       [0.4796229 , 0.42147477, 0.1699652 , ..., 0.61457005, 0.86211142,\n",
       "        0.99763549],\n",
       "       [0.34359871, 0.02064267, 0.94817193, ..., 0.43969217, 0.17175791,\n",
       "        0.35456333],\n",
       "       ...,\n",
       "       [0.3610588 , 0.32476581, 0.54285379, ..., 0.02678746, 0.86757921,\n",
       "        0.28054432],\n",
       "       [0.92302493, 0.25174644, 0.60701787, ..., 0.82207945, 0.13301054,\n",
       "        0.2552714 ],\n",
       "       [0.95293024, 0.38753472, 0.03945651, ..., 0.63435712, 0.84021705,\n",
       "        0.63964905]])"
      ]
     },
     "execution_count": 38,
     "metadata": {},
     "output_type": "execute_result"
    }
   ],
   "source": [
    "np.random.rand(10,100000)"
   ]
  },
  {
   "cell_type": "code",
   "execution_count": 54,
   "id": "9136d44a",
   "metadata": {},
   "outputs": [],
   "source": [
    "def generateDataNumpy():\n",
    "    max_integer = int(input(\"Enter the max integer 'x' for the array: \"))\n",
    "    number_arrays = int(input(\"Enter the number of arrays to generate: \"))\n",
    "    input_data = []\n",
    "    x = random.randint(1000,10000000)\n",
    "    print(x)\n",
    "    input_data = np.random.randint(max_integer+1, size=x)\n",
    "    print(input_data)\n",
    "    return input_data"
   ]
  },
  {
   "cell_type": "code",
   "execution_count": 56,
   "id": "ce775903",
   "metadata": {},
   "outputs": [
    {
     "data": {
      "text/plain": [
       "array([287, 137, 595, 320, 878, 363, 650, 517, 123, 150, 955, 337, 373,\n",
       "       472, 765, 244,  46, 343, 686, 833, 276, 357,  80, 731, 255, 204,\n",
       "       239, 557, 116, 864,  56,  24, 144, 881, 235,  75, 580, 175, 333,\n",
       "       845, 554, 376, 662, 490, 215, 365, 245, 596, 110, 871,  16,  46,\n",
       "       219, 133, 355,  57, 977, 428, 781, 983, 206, 210, 909, 576, 807,\n",
       "       696, 196, 687, 151, 550, 828, 542, 940, 910, 632,  72, 458,  56,\n",
       "       275, 838, 964, 613,  98, 513,   7, 286, 333, 781, 473, 949,  92,\n",
       "        68, 339, 389, 521, 814, 413, 161, 385, 634, 849, 429, 506, 610,\n",
       "       374, 926, 507, 986, 941, 552, 782, 523, 761, 950, 876, 477, 557,\n",
       "       667, 731, 957, 595, 683,  77, 899, 602,  17, 262, 211, 261, 931,\n",
       "       856,  28, 729, 817, 865, 520, 628, 647, 630,   6, 730, 971, 758,\n",
       "       839, 666,  46, 543, 947, 941, 191, 637, 515, 928, 461,  26, 217,\n",
       "       408, 186, 582, 862, 522, 156, 628, 423, 176,  77, 233, 461, 238,\n",
       "        15, 900, 877, 432, 918, 508, 317, 471, 254, 668, 297,  83, 778,\n",
       "       540, 926, 396, 228, 623, 599, 597, 289, 678, 823, 301, 450, 185,\n",
       "       145, 198, 606, 883, 115, 318, 187, 302, 648, 954,  40, 567, 616,\n",
       "       390, 159, 599, 724, 849, 869, 288, 414, 491, 539, 336, 902, 368,\n",
       "       128,  95, 657, 918, 423, 704,  56, 186, 216, 965, 706, 234, 281,\n",
       "       376, 370, 889, 763, 202, 297, 320, 508, 316, 300, 892, 737, 398,\n",
       "        73, 659, 803, 577, 587, 249, 711, 758, 124, 195, 424, 216, 526,\n",
       "       181,  58, 928,  13, 558, 803, 971, 440, 418, 281, 955, 622, 701,\n",
       "       259, 219, 598, 619, 474, 871, 283, 790, 173, 289, 947, 499, 277,\n",
       "       760, 198, 574, 698,  67, 373, 916, 878, 152, 377,   2, 711, 961,\n",
       "       988,  58, 755,  45,  40, 543, 305, 106, 806, 753, 753, 364, 693,\n",
       "       123, 753, 138, 857, 744, 107, 453, 316, 415, 818, 554, 264, 327,\n",
       "       426, 819, 642, 161, 519, 116,  74, 466, 643, 972, 618, 489, 765,\n",
       "       834, 576, 924, 678, 233, 844, 335, 873,   5, 344, 579, 470, 196,\n",
       "       254, 213, 545, 555, 427, 431, 305, 227, 457, 648, 364, 854, 853,\n",
       "         1, 649, 321, 401, 621, 156, 768, 170, 910,  95, 230, 685, 488,\n",
       "        12, 180, 573, 488, 286, 680, 316, 289, 694, 882, 759, 993, 861,\n",
       "       219, 546, 475, 330, 209,   2, 602, 777, 909, 961, 260, 723,  68,\n",
       "       944, 706,   5, 598, 531, 747, 847, 842, 380, 893, 735, 123, 958,\n",
       "       743,  34, 712, 516, 623, 374, 276, 981, 388, 175, 721, 487, 870,\n",
       "       784, 699, 269, 932, 657, 867, 238,  64, 659, 294, 302,  42, 542,\n",
       "       750, 419, 344, 329, 786, 154, 480, 823, 120, 644, 305, 747, 489,\n",
       "       668, 716, 846,  93,  64, 423, 733, 589, 496,   7, 758, 177, 483,\n",
       "        99, 248, 537, 748, 697, 994, 441, 772,  10, 957, 936, 660, 771,\n",
       "       550, 688, 501, 288, 378,  80, 168, 411, 428, 650, 485, 824, 443,\n",
       "       200, 527, 924, 247, 149, 264, 618, 899, 588, 742, 623, 728, 339,\n",
       "       196, 498, 592, 427, 898, 338, 767, 970, 205, 734, 758,   2, 614,\n",
       "         0, 927, 551, 595, 968, 177, 156,  19, 124, 540, 477, 123, 115,\n",
       "       594, 518, 300, 773, 103, 393, 482, 209,  50, 582, 558, 671, 632,\n",
       "       769, 117, 900, 338,  43, 614, 138, 239, 378, 289, 769, 754, 562,\n",
       "       636, 919, 545, 152, 886, 965, 171, 528, 650, 201, 878, 693, 503,\n",
       "       970, 441, 492, 598, 160, 570,  91,  84, 382, 203, 181, 173, 705,\n",
       "       531, 587,  25, 274, 183, 437, 634, 536, 405, 903, 207, 552, 919,\n",
       "       767, 770, 642, 122, 157, 720, 342, 306, 462, 582, 753, 789, 889,\n",
       "       450, 724, 771, 731, 610, 699, 546, 638, 961, 937, 320, 505, 872,\n",
       "       859, 353, 704, 862, 835, 233, 830, 901, 496, 126, 359, 977,  44,\n",
       "       586, 133, 869, 472, 359, 181, 712, 714,  26, 203, 819, 324, 783,\n",
       "       872, 587,  88, 442, 728, 533, 831, 257, 870, 503, 847, 770, 130,\n",
       "       536, 645, 831, 678, 809, 982,  27, 261, 426, 211, 263, 340, 470,\n",
       "       693, 890, 596, 844,  39, 735, 173, 138, 814, 420, 291, 732, 141,\n",
       "       222, 768, 247, 600, 195, 537, 614, 373, 343, 433, 455, 207, 337,\n",
       "       169, 621, 975, 243, 677,  82, 289, 516, 215, 125, 193, 430, 714,\n",
       "       652, 852, 449, 300, 506, 217, 704, 672, 482, 658, 965,  84, 148,\n",
       "       283, 456, 361, 918, 598, 157, 700, 224,  74, 388, 834, 670, 232,\n",
       "       180, 122, 505, 774, 639, 796, 516, 787,  69, 572, 439, 969, 174,\n",
       "       118, 282, 810, 804,  67, 834, 901, 342, 913, 171, 375, 571, 417,\n",
       "       629, 722, 555, 947, 751, 770, 740, 700, 279, 124,   7,   0, 702,\n",
       "       649, 549, 513, 981,  50, 713, 197, 352, 479, 297, 757, 617, 441,\n",
       "       438, 540, 789, 620, 976, 556, 398, 765, 614, 905, 980, 527,   9,\n",
       "       516, 247, 172, 100, 513, 159, 355,   1, 482, 210, 352, 282,   3,\n",
       "        34, 344, 783, 464, 468, 628, 846, 628, 583,  11, 460, 596, 491,\n",
       "       854, 830, 607, 908,   7, 155, 135, 986, 364,  18,  59, 180,  38,\n",
       "       191, 168, 283, 317, 488, 290, 268, 547, 905, 395, 857, 740, 618,\n",
       "       686, 956, 803, 935, 357, 879,  21, 231, 258,  67, 696, 202, 881,\n",
       "       116, 513, 664, 172, 840,  31, 285, 396, 681, 987, 610, 153, 216,\n",
       "       992, 443, 490, 210, 861, 489, 879, 396, 532, 256, 962, 919, 297,\n",
       "       786, 254, 571, 758, 277, 896, 509, 473,  34,  17, 745, 688,  18,\n",
       "       223, 568, 560, 147, 848, 717,  79, 913, 648, 668, 552, 653,  19,\n",
       "       986, 766, 785, 268, 836, 122, 774, 805, 767, 791, 326, 639, 876,\n",
       "       893, 699, 745, 549, 535, 881, 428, 996, 507, 505,  68, 631, 689,\n",
       "       246, 207, 148, 200, 786, 805, 364, 911, 631, 191, 612, 802, 411,\n",
       "       183, 904, 682, 701, 175, 507, 598, 800, 388, 954, 579, 139, 837,\n",
       "       109, 647, 836, 381, 911, 132, 899, 301, 675, 613, 739, 922,  68,\n",
       "       522, 304, 855, 513, 959, 599, 432, 391, 550, 352, 519, 790])"
      ]
     },
     "execution_count": 56,
     "metadata": {},
     "output_type": "execute_result"
    }
   ],
   "source": [
    "np.random.randint(1000, size=1000000)"
   ]
  },
  {
   "cell_type": "code",
   "execution_count": null,
   "id": "1959e06a",
   "metadata": {},
   "outputs": [],
   "source": []
  },
  {
   "cell_type": "code",
   "execution_count": null,
   "id": "1acfb311",
   "metadata": {},
   "outputs": [],
   "source": []
  }
 ],
 "metadata": {
  "kernelspec": {
   "display_name": "Python 3 (ipykernel)",
   "language": "python",
   "name": "python3"
  },
  "language_info": {
   "codemirror_mode": {
    "name": "ipython",
    "version": 3
   },
   "file_extension": ".py",
   "mimetype": "text/x-python",
   "name": "python",
   "nbconvert_exporter": "python",
   "pygments_lexer": "ipython3",
   "version": "3.9.7"
  }
 },
 "nbformat": 4,
 "nbformat_minor": 5
}
